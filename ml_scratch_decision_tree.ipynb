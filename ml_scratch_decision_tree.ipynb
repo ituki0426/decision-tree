{
  "nbformat": 4,
  "nbformat_minor": 0,
  "metadata": {
    "colab": {
      "provenance": [],
      "machine_shape": "hm",
      "gpuType": "L4",
      "authorship_tag": "ABX9TyNPrt0IpNQO/oREnMRvohY6",
      "include_colab_link": true
    },
    "kernelspec": {
      "name": "python3",
      "display_name": "Python 3"
    },
    "language_info": {
      "name": "python"
    },
    "accelerator": "GPU"
  },
  "cells": [
    {
      "cell_type": "markdown",
      "metadata": {
        "id": "view-in-github",
        "colab_type": "text"
      },
      "source": [
        "<a href=\"https://colab.research.google.com/github/ituki0426/decision-tree/blob/main/ml_scratch_decision_tree.ipynb\" target=\"_parent\"><img src=\"https://colab.research.google.com/assets/colab-badge.svg\" alt=\"Open In Colab\"/></a>"
      ]
    },
    {
      "cell_type": "markdown",
      "source": [
        "This notebook is based on https://github.com/yuuhi-s/diveintocode-ml/blob/master/diveintocode-term1/sprint6/sprint6-ml-scratch-decision-tree.ipynb"
      ],
      "metadata": {
        "id": "p6-E513Rczbt"
      }
    },
    {
      "cell_type": "markdown",
      "source": [
        "# 問題1 ジニ不純度を求める関数"
      ],
      "metadata": {
        "id": "c6MOZcZLc8NP"
      }
    },
    {
      "cell_type": "code",
      "source": [
        "import numpy as np"
      ],
      "metadata": {
        "id": "6IeAZcWamvYS"
      },
      "execution_count": 7,
      "outputs": []
    },
    {
      "cell_type": "markdown",
      "source": [
        "ジニ不純度I(t)\n",
        "\n",
        "$I(t) = 1 - \\sum_{1\\le i\\le K}P^2(C_i | t)  = 1 - \\sum_{1\\le i\\le K}(N_i / N_a)^2 $\n",
        "\n",
        "$P(C_i | t ) $：t番目のノードにおける$C_i$の割合\n",
        "\n",
        "$N_i$：t番目のノードのi番目のクラスに属するサンプル数\n",
        "\n",
        "$N_a$：t番目のノードのサンプルの総数"
      ],
      "metadata": {
        "id": "93Ex56fvkb6C"
      }
    },
    {
      "cell_type": "code",
      "execution_count": 8,
      "metadata": {
        "id": "1BsVQF_9cm1t"
      },
      "outputs": [],
      "source": [
        "y = np.array([[0],[0],[0], [1], [1]])"
      ]
    },
    {
      "cell_type": "code",
      "source": [
        "def _gini_impure(y):\n",
        "  # yのクラスのユニーク値を取得\n",
        "  y_unique = np.unique(y)\n",
        "  labels = len(y)\n",
        "  print(\"y_unique : {}, labels : {}\".format(y_unique,labels))\n",
        "  #ラベルの総数が０のときはジニ不純度を０とする\n",
        "  if labels == 0:\n",
        "    gini = 0\n",
        "    return gini\n",
        "  #初期値\n",
        "  gini = 1\n",
        "  for i in y_unique:\n",
        "    #あるクラスに属するサンプル数とノードのサンプルの総数を割る\n",
        "    val = len(y[y==i])/labels\n",
        "    gini = gini - val**2.0\n",
        "  return gini"
      ],
      "metadata": {
        "id": "5D8gcUSdmoV8"
      },
      "execution_count": 9,
      "outputs": []
    },
    {
      "cell_type": "code",
      "source": [
        "gini = _gini_impure(y)\n",
        "print(gini)"
      ],
      "metadata": {
        "colab": {
          "base_uri": "https://localhost:8080/"
        },
        "id": "euE8hpi2moSt",
        "outputId": "2532665e-c0f3-47c0-fa2d-c41316e0a728"
      },
      "execution_count": 10,
      "outputs": [
        {
          "output_type": "stream",
          "name": "stdout",
          "text": [
            "y_unique : [0 1], labels : 5\n",
            "0.48\n"
          ]
        }
      ]
    },
    {
      "cell_type": "markdown",
      "source": [
        "# 問題２ 情報利得（Information gain）を求める"
      ],
      "metadata": {
        "id": "FvjBAxe4oMya"
      }
    },
    {
      "cell_type": "markdown",
      "source": [
        "情報利得(Infomation Grain)IGは以下の数式で求まります。\n",
        "\n",
        "$IG(p) = I(p) - N_l/N_p*I(left) - N_r/N_p*I(right)$\n",
        "\n",
        "$p$：親ノードを示すインデックス\n",
        "\n",
        "$left$：左側のノードを示すインデックス\n",
        "\n",
        "$right$：右側のノードを示すインデックス"
      ],
      "metadata": {
        "id": "xFox2z0I_uxu"
      }
    },
    {
      "cell_type": "markdown",
      "source": [
        "例\n",
        "\n",
        "左ノードクラス1:サンプル数10, 左ノードクラス2:サンプル数30, 右ノードクラス1:サンプル数20, 右ノードクラス2:サンプル数5"
      ],
      "metadata": {
        "id": "eqz0qvAXASfG"
      }
    },
    {
      "cell_type": "code",
      "source": [
        "# 親ノード\n",
        "p = 1 - ((30/65)**2 + (35/65)**2)\n",
        "p"
      ],
      "metadata": {
        "colab": {
          "base_uri": "https://localhost:8080/"
        },
        "id": "EEXuQ9DaAhZx",
        "outputId": "4379e418-d597-4c6e-c2fc-e6fce450dae8"
      },
      "execution_count": 11,
      "outputs": [
        {
          "output_type": "execute_result",
          "data": {
            "text/plain": [
              "0.4970414201183432"
            ]
          },
          "metadata": {},
          "execution_count": 11
        }
      ]
    },
    {
      "cell_type": "code",
      "source": [
        "left = (40/65) * (1 - ((10/40)**2 + (30/40)**2))\n",
        "left"
      ],
      "metadata": {
        "colab": {
          "base_uri": "https://localhost:8080/"
        },
        "id": "bGUg5zgJAyye",
        "outputId": "62fa9da3-3985-47d9-c211-2d232fccd8ac"
      },
      "execution_count": 12,
      "outputs": [
        {
          "output_type": "execute_result",
          "data": {
            "text/plain": [
              "0.23076923076923078"
            ]
          },
          "metadata": {},
          "execution_count": 12
        }
      ]
    },
    {
      "cell_type": "code",
      "source": [
        "right = (25/65) * (1 - ((20/25)**2 + (5/25)**2))\n",
        "right"
      ],
      "metadata": {
        "colab": {
          "base_uri": "https://localhost:8080/"
        },
        "id": "5kIE8LROBOvw",
        "outputId": "0fe856ae-6384-4af6-eeba-ef0a83ccf9cc"
      },
      "execution_count": 13,
      "outputs": [
        {
          "output_type": "execute_result",
          "data": {
            "text/plain": [
              "0.12307692307692303"
            ]
          },
          "metadata": {},
          "execution_count": 13
        }
      ]
    },
    {
      "cell_type": "code",
      "source": [
        "#Infomation Grain\n",
        "p-left-right"
      ],
      "metadata": {
        "colab": {
          "base_uri": "https://localhost:8080/"
        },
        "id": "x_M2lww_BSPB",
        "outputId": "3c8ece51-6015-4c0d-8102-f63d84330b50"
      },
      "execution_count": 14,
      "outputs": [
        {
          "output_type": "execute_result",
          "data": {
            "text/plain": [
              "0.14319526627218937"
            ]
          },
          "metadata": {},
          "execution_count": 14
        }
      ]
    },
    {
      "cell_type": "code",
      "source": [
        "#親ノード\n",
        "p1 = np.zeros(30)\n",
        "p2 = np.ones(35)\n",
        "p = np.concatenate([p1,p2])[:,np.newaxis]\n",
        "\n",
        "left1 = np.zeros(10)\n",
        "left2 = np.ones(30)\n",
        "left = np.concatenate([left1,left2])[:,np.newaxis]\n",
        "\n",
        "right1 = np.zeros(20)\n",
        "right2 = np.ones(5)\n",
        "right = np.concatenate([right1,right2])[:,np.newaxis]"
      ],
      "metadata": {
        "id": "QyrxKo0zBZVZ"
      },
      "execution_count": 18,
      "outputs": []
    },
    {
      "cell_type": "code",
      "source": [
        "def _information_gain(y_p,y_left,y_right):\n",
        "  p = _gini_impure(y_p)\n",
        "  left = _gini_impure(y_left)\n",
        "  right = _gini_impure(y_right)\n",
        "  return p - (len(y_left)/len(y_p))*left - (len(y_right)/len(y_p))*right"
      ],
      "metadata": {
        "id": "a3CVdAY-FK4q"
      },
      "execution_count": 19,
      "outputs": []
    },
    {
      "cell_type": "code",
      "source": [
        "print(_information_gain(p,left,right))"
      ],
      "metadata": {
        "colab": {
          "base_uri": "https://localhost:8080/"
        },
        "id": "AAyxIcHzFeZP",
        "outputId": "803bc2a9-1b04-4e64-ff6c-4565105ac545"
      },
      "execution_count": 20,
      "outputs": [
        {
          "output_type": "stream",
          "name": "stdout",
          "text": [
            "y_unique : [0. 1.], labels : 65\n",
            "y_unique : [0. 1.], labels : 40\n",
            "y_unique : [0. 1.], labels : 25\n",
            "0.14319526627218943\n"
          ]
        }
      ]
    }
  ]
}